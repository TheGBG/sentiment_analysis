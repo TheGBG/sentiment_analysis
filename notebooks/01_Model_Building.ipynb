{
 "cells": [
  {
   "cell_type": "markdown",
   "metadata": {},
   "source": [
    "## Autores: \n",
    "Blanco García, Gabriel: gabriel.blanco@cunef.edu   \n",
    "Ferrín Meilá, Michelle: michelle.ferrin@cunef.edu"
   ]
  },
  {
   "cell_type": "markdown",
   "metadata": {},
   "source": [
    "# Modelos: construcción, entrenamiento y selección.\n",
    "\n",
    "<img src='https://storage.ning.com/topology/rest/1.0/file/get/2808372468?profile=original'>"
   ]
  },
  {
   "cell_type": "markdown",
   "metadata": {},
   "source": [
    "En este notebook se prueban múltiples modelos de clasificación con el objetivo de ver cuál es el que mejor responde y genera mayor valor económico a la hora de predecir los sentimientos. Se construye un modelo base y calsificadores más avanzados. Se utilizan los hiperparámetros por defecto. El mejor de estos modelos será comparado con las redes neuronales qu se construirán en el siguiente notebook, y tomada la decisión del modelo ganador, se procederá a la optimización de sus hiperparámetros."
   ]
  },
  {
   "cell_type": "code",
   "execution_count": 1,
   "metadata": {},
   "outputs": [],
   "source": [
    "# Operaciones básicas\n",
    "import pandas as pd\n",
    "import numpy as np\n",
    "import matplotlib.pyplot as plt \n",
    "import seaborn as sns \n",
    "import pickle\n",
    "\n",
    "# Procesamiento y modelado\n",
    "from sklearn.feature_extraction.text import TfidfVectorizer # vectorizacion del texto\n",
    "from sklearn.utils import shuffle # barajar los datos\n",
    "from sklearn.pipeline import Pipeline # construicción de los pipelines\n",
    "\n",
    "# Modelos\n",
    "from sklearn.dummy import DummyClassifier \n",
    "from sklearn.linear_model import LogisticRegression\n",
    "from sklearn.naive_bayes import MultinomialNB\n",
    "from sklearn.neighbors import KNeighborsClassifier\n",
    "from sklearn.linear_model import Perceptron\n",
    "from sklearn.linear_model import PassiveAggressiveClassifier\n",
    "from sklearn.linear_model import SGDClassifier\n",
    "from sklearn.tree import DecisionTreeClassifier\n",
    "from sklearn.svm import SVC\n",
    "from sklearn.ensemble import RandomForestClassifier\n",
    "from sklearn.ensemble import AdaBoostClassifier\n",
    "from sklearn.ensemble import GradientBoostingClassifier\n",
    "\n",
    "# Métricas\n",
    "from sklearn.metrics import classification_report\n",
    "from sklearn.metrics import roc_auc_score\n",
    "from sklearn.metrics import confusion_matrix\n",
    "from sklearn.metrics import f1_score\n",
    "\n",
    "# Nuestras funciones\n",
    "%run ../src/operar_modelos.ipynb\n",
    "%run ../src/plots_metricas.ipynb"
   ]
  },
  {
   "cell_type": "markdown",
   "metadata": {},
   "source": [
    "## Importación y división de los datos"
   ]
  },
  {
   "cell_type": "markdown",
   "metadata": {},
   "source": [
    "Cargamos los datos limpios"
   ]
  },
  {
   "cell_type": "code",
   "execution_count": 2,
   "metadata": {},
   "outputs": [],
   "source": [
    "datos = pd.read_pickle('../data/clean/clean_data.sav')"
   ]
  },
  {
   "cell_type": "code",
   "execution_count": 3,
   "metadata": {},
   "outputs": [
    {
     "data": {
      "text/html": [
       "<div>\n",
       "<style scoped>\n",
       "    .dataframe tbody tr th:only-of-type {\n",
       "        vertical-align: middle;\n",
       "    }\n",
       "\n",
       "    .dataframe tbody tr th {\n",
       "        vertical-align: top;\n",
       "    }\n",
       "\n",
       "    .dataframe thead th {\n",
       "        text-align: right;\n",
       "    }\n",
       "</style>\n",
       "<table border=\"1\" class=\"dataframe\">\n",
       "  <thead>\n",
       "    <tr style=\"text-align: right;\">\n",
       "      <th></th>\n",
       "      <th>sentiment</th>\n",
       "      <th>review</th>\n",
       "    </tr>\n",
       "  </thead>\n",
       "  <tbody>\n",
       "    <tr>\n",
       "      <th>0</th>\n",
       "      <td>1</td>\n",
       "      <td>one reviewer mentioned watching 1 oz episode y...</td>\n",
       "    </tr>\n",
       "    <tr>\n",
       "      <th>1</th>\n",
       "      <td>1</td>\n",
       "      <td>wonderful little production filming technique ...</td>\n",
       "    </tr>\n",
       "    <tr>\n",
       "      <th>2</th>\n",
       "      <td>1</td>\n",
       "      <td>thought wonderful way spend time hot summer we...</td>\n",
       "    </tr>\n",
       "    <tr>\n",
       "      <th>3</th>\n",
       "      <td>0</td>\n",
       "      <td>basically there family little boy jake think t...</td>\n",
       "    </tr>\n",
       "    <tr>\n",
       "      <th>4</th>\n",
       "      <td>1</td>\n",
       "      <td>petter matteis love time money visually stunni...</td>\n",
       "    </tr>\n",
       "  </tbody>\n",
       "</table>\n",
       "</div>"
      ],
      "text/plain": [
       "   sentiment                                             review\n",
       "0          1  one reviewer mentioned watching 1 oz episode y...\n",
       "1          1  wonderful little production filming technique ...\n",
       "2          1  thought wonderful way spend time hot summer we...\n",
       "3          0  basically there family little boy jake think t...\n",
       "4          1  petter matteis love time money visually stunni..."
      ]
     },
     "execution_count": 3,
     "metadata": {},
     "output_type": "execute_result"
    }
   ],
   "source": [
    "datos.head()"
   ]
  },
  {
   "cell_type": "markdown",
   "metadata": {},
   "source": [
    "Antes de empezar a trabajar, se baraja el dataframe por si los datos pudiesen estar ordenados de alguna manera que anulase la aleatoriedad.  "
   ]
  },
  {
   "cell_type": "code",
   "execution_count": 6,
   "metadata": {},
   "outputs": [
    {
     "data": {
      "text/html": [
       "<div>\n",
       "<style scoped>\n",
       "    .dataframe tbody tr th:only-of-type {\n",
       "        vertical-align: middle;\n",
       "    }\n",
       "\n",
       "    .dataframe tbody tr th {\n",
       "        vertical-align: top;\n",
       "    }\n",
       "\n",
       "    .dataframe thead th {\n",
       "        text-align: right;\n",
       "    }\n",
       "</style>\n",
       "<table border=\"1\" class=\"dataframe\">\n",
       "  <thead>\n",
       "    <tr style=\"text-align: right;\">\n",
       "      <th></th>\n",
       "      <th>sentiment</th>\n",
       "      <th>review</th>\n",
       "    </tr>\n",
       "  </thead>\n",
       "  <tbody>\n",
       "    <tr>\n",
       "      <th>47069</th>\n",
       "      <td>1</td>\n",
       "      <td>oneline summary hint good film true enjoy movi...</td>\n",
       "    </tr>\n",
       "    <tr>\n",
       "      <th>13768</th>\n",
       "      <td>0</td>\n",
       "      <td>despairing film dress actor furry rag place su...</td>\n",
       "    </tr>\n",
       "    <tr>\n",
       "      <th>2993</th>\n",
       "      <td>0</td>\n",
       "      <td>dueringer dorfer good standup comedian young u...</td>\n",
       "    </tr>\n",
       "    <tr>\n",
       "      <th>8856</th>\n",
       "      <td>1</td>\n",
       "      <td>surely gershwin family realizes one america gr...</td>\n",
       "    </tr>\n",
       "    <tr>\n",
       "      <th>964</th>\n",
       "      <td>1</td>\n",
       "      <td>may good old boy virginia confederate state am...</td>\n",
       "    </tr>\n",
       "  </tbody>\n",
       "</table>\n",
       "</div>"
      ],
      "text/plain": [
       "       sentiment                                             review\n",
       "47069          1  oneline summary hint good film true enjoy movi...\n",
       "13768          0  despairing film dress actor furry rag place su...\n",
       "2993           0  dueringer dorfer good standup comedian young u...\n",
       "8856           1  surely gershwin family realizes one america gr...\n",
       "964            1  may good old boy virginia confederate state am..."
      ]
     },
     "execution_count": 6,
     "metadata": {},
     "output_type": "execute_result"
    }
   ],
   "source": [
    "np.random.seed(123)\n",
    "datos = shuffle(datos)\n",
    "datos.head()"
   ]
  },
  {
   "cell_type": "markdown",
   "metadata": {},
   "source": [
    "Efectuamos la división en tres tramos:\n",
    "- __Train__: 60% de los datos. Para entrenar los modelos.\n",
    "- __Validation__: 20% de los datos. Para calcular las métricas de la optimización de hiperparámetros y comparar contra el modelo sin optimizar\n",
    "- __Test__: 20% para calcular las métricas, de los modelos sin optimizar y del modelo final ganador "
   ]
  },
  {
   "cell_type": "code",
   "execution_count": 20,
   "metadata": {},
   "outputs": [],
   "source": [
    "# Division\n",
    "train, validation, test = np.split(datos.sample(frac=1, random_state=1234), \n",
    "                                   [int(0.6*len(datos)),\n",
    "                                    int(0.8*len(datos))])"
   ]
  },
  {
   "cell_type": "code",
   "execution_count": 21,
   "metadata": {},
   "outputs": [],
   "source": [
    "# Creación de los objetos con las variables y los target\n",
    "# Tramo de entrenamiento \n",
    "X_train = train.review\n",
    "y_train = train.sentiment\n",
    "\n",
    "# Tramo de validacion \n",
    "X_validation = validation.review\n",
    "y_validation = validation.sentiment\n",
    "\n",
    "# Tramo de test\n",
    "X_test = test.review\n",
    "y_test = test.sentiment"
   ]
  },
  {
   "cell_type": "markdown",
   "metadata": {},
   "source": [
    "Guardamos los datos en sus correspondientes carpetas"
   ]
  },
  {
   "cell_type": "code",
   "execution_count": 15,
   "metadata": {},
   "outputs": [],
   "source": [
    "# Train en carpeta  train\n",
    "X_train.to_pickle('../data/train/X_train.sav')\n",
    "y_train.to_pickle('../data/train/y_train.sav')\n",
    "\n",
    "# Validacion en carpeta validation\n",
    "X_validation.to_pickle('../data/validation/X_validation.sav')\n",
    "y_validation.to_pickle('../data/validation/y_validation.sav')\n",
    "\n",
    "# Test en carpeta test\n",
    "X_test.to_pickle('../data/test/X_test.sav')\n",
    "y_test.to_pickle('../data/test/y_test.sav')"
   ]
  },
  {
   "cell_type": "markdown",
   "metadata": {},
   "source": [
    "## Vectorización: de palabras a números"
   ]
  },
  {
   "cell_type": "markdown",
   "metadata": {},
   "source": [
    "Los modelos de Machine Learning no entienden el texto del mismo modo que los seres humanos. Para poder utilizar texto en los modelos, es necesario vectorizarlos.\n",
    "\n",
    "La __vectorización__ consiste en crear vectores a partir de palabras. Existen múltiples maneras de lograr este fin. La más simple es el one-hot encoding. Para aplicación a texto, este enfoque no es adecuado, porque sobredimensiona el problema.  \n",
    "Otra forma es el conteo: representar cada palabra como un vector, cuyos elementos son la cuenta de veces que dicha palabra aparece en cada observación.  \n",
    "\n",
    "\n",
    "<img src='https://www.oreilly.com/library/view/applied-text-analysis/9781491963036/assets/atap_0402.png' width=500>\n",
    "\n",
    "\n",
    "\n",
    "El problema de aplicar simplemente la cuenta es que palabras correspondientes al campo del texto, como en nuestro caso, _movie_ o _film_ (las más grandes en los wordcloud) obtienen valores altos, no porque realmente sean importantes en cada observacion, sino porque son palabras muy comunes que se emplean al hablar de películas.  \n",
    "\n",
    "Para evitar este problema, utilizaremos el __TF-Idf__"
   ]
  },
  {
   "cell_type": "markdown",
   "metadata": {},
   "source": [
    "### Tf-idf"
   ]
  },
  {
   "cell_type": "markdown",
   "metadata": {},
   "source": [
    "TF-idf (\"Term Frequency Inverse Document Frequency\") es un algoritmo que evalúa la relevancia de una palabra para un documento en una colección de documentos. Lo interesante del TF-Idf es que logra contrarrestar la puntuación de palabras que aparecen muchas veces por el hecho de ser relativas a un campo."
   ]
  },
  {
   "cell_type": "markdown",
   "metadata": {},
   "source": [
    "$$ \\textrm{tf-idf}(t) = \\textrm{tf}(t, d) \\times \\textrm{idf}(t) $$\n",
    "\n",
    "* $\\textrm{tf}$ : Número de veces que el término $t$ aparece en el documento, $d$\n",
    "* $\\textrm{idf}$ : Frecuencia inversa de la palabra en el documento"
   ]
  },
  {
   "cell_type": "markdown",
   "metadata": {},
   "source": [
    "El primer término, el tf, se calcula como el número de veces que aparece una palabra t, en un documento j, dividido entre el total de palabras de ese documento, d. En otras palabras, la proporción. $$\\textrm{Term Frequency}(t, d) = \\frac{t}{d}$$ \n",
    "\n",
    "\n",
    "El segundo término, idf, es el interesante. Se calcula como el logaritmo del cociente de N, número total de documentos y df, el número total de documentos en los que aprarece la palabra.\n",
    "\n",
    "$$\\textrm{idf}(t, N) = log\\left(\\frac{N}{{df_{t}}} \\right)$$\n",
    "\n",
    "De este modo: \n",
    "\n",
    "- Si la palabra está presente en muchos documentos, el cociente tenderá a 1, puesto que N sera aproximadamente igual a df. Si el resultado del cociente tiende a 1, el logaritmo del cociente tiende a 0, siendo exactamente 0 en el caso más extremo, que es aquel en el que N/df = 1, es decir, que la palabra está presente en __todos__ los documentos\n",
    "\n",
    "\n",
    " \n",
    "- Análogamente, si la palabra aparece en un número de documentos menor que el total, el cociente será superior a 1, y el logartitmo del cociente se alejará de 0. \n",
    "\n",
    "\n",
    "$${w_{i, j}} = {tf_{i, j}} \\times log \\left(\\frac{N}{df_{i}} \\right)$$  \n",
    "El resultado del logaritmo multiplica la proporción de dicha palabra (tf), penalizando aquellos casos en que la palabra aparece en muchos documentos, siendo el caso más extremo aquel en que la palabra está en todos los documentos, y la puntuación TF-Idf vale 0.\n"
   ]
  },
  {
   "cell_type": "markdown",
   "metadata": {},
   "source": [
    "Inicializamos el vectorizador Tf-Idf. Este vectorizador, antes de construir los vectores, genera tokens a partir del texto, tal como se comentaba en el EDA, y por este motivo se excluye la tokenización del preprocesado, porque ya se realiza aquí al vectorizar"
   ]
  },
  {
   "cell_type": "code",
   "execution_count": 26,
   "metadata": {},
   "outputs": [],
   "source": [
    "vectorizador_tfidf = TfidfVectorizer() "
   ]
  },
  {
   "cell_type": "markdown",
   "metadata": {},
   "source": [
    "### Modelo base"
   ]
  },
  {
   "cell_type": "markdown",
   "metadata": {},
   "source": [
    "Todos los modelos constarán de dos elementos, el vectorizador y el clasificador. Construimos el modelo base"
   ]
  },
  {
   "cell_type": "code",
   "execution_count": 17,
   "metadata": {},
   "outputs": [],
   "source": [
    "modelo_base = Pipeline(steps=[\n",
    "\n",
    "    ('vectorizador', vectorizador_tfidf), \n",
    "    \n",
    "    ('clasificador', DummyClassifier(strategy='most_frequent',\n",
    "                                     random_state=1234))])"
   ]
  },
  {
   "cell_type": "markdown",
   "metadata": {},
   "source": [
    "El modelo es el más simple, utiliza el valor más frecuente para predecir. Lo entrenamos y obtenemos su accuracy"
   ]
  },
  {
   "cell_type": "code",
   "execution_count": 18,
   "metadata": {
    "scrolled": true
   },
   "outputs": [
    {
     "data": {
      "text/plain": [
       "Pipeline(steps=[('vectorizador', TfidfVectorizer()),\n",
       "                ('clasificador',\n",
       "                 DummyClassifier(random_state=1234, strategy='most_frequent'))])"
      ]
     },
     "execution_count": 18,
     "metadata": {},
     "output_type": "execute_result"
    }
   ],
   "source": [
    "modelo_base.fit(X_train, y_train)"
   ]
  },
  {
   "cell_type": "code",
   "execution_count": 19,
   "metadata": {
    "scrolled": true
   },
   "outputs": [
    {
     "data": {
      "text/plain": [
       "0.5013"
      ]
     },
     "execution_count": 19,
     "metadata": {},
     "output_type": "execute_result"
    }
   ],
   "source": [
    "modelo_base.score(X_test, y_test)"
   ]
  },
  {
   "cell_type": "markdown",
   "metadata": {},
   "source": [
    "Este será el modelo base que se utilizará como punto de comparación con los demás. Antes de proceder al entrenamiento del resto de modelos, definimos una función para calcular el coste o las ganancias asociadas a cada modelo, y así poder compararlos también en términos de negocio."
   ]
  },
  {
   "cell_type": "markdown",
   "metadata": {},
   "source": [
    "## Matriz de costes"
   ]
  },
  {
   "cell_type": "markdown",
   "metadata": {},
   "source": [
    "Vamos a penalizar los falsos positivos duramente, porque consideramos que para este caso de uso, lo peor que puede suceder es que el modelo clasifique como positivas opiniones negativas. Es el peor caso, puesto  que se trataría de clientes insatisfechos que no reciben atención porque el modelo los clasifica como clientes felices. Para el ejemplo de las películas, se estaría clasificando como positivas reseñas que en realidad son negativas, creando la falsa sensación de que una película es exitosa, cuando en realidad los espectadores están descontentos con ella.\n",
    "\n",
    "Definimos la función con los siguientes valores por defecto para cada tipo de clasificación:  \n",
    "\n",
    "- __Verdaderos negativos__: 100. Son las opiniones negativas correctamente clasificadas. En la función tendrá  signo negativo, puesto que es una función de coste, y las opiniones correctamente clasificadas generan valor.  \n",
    "\n",
    "\n",
    "- __Verdaderos positivos__: 50. Generan valor, pero menos que las negativas, que son el foco de nuestro modelo.   \n",
    "\n",
    "\n",
    "- __Falsos positivos__: 300: Es la situación que queremos evitar a toda costa, así que la cuantificamos cara, el triple que los verdaderos negativos.  \n",
    "  \n",
    "  \n",
    "- __Falsos negativos__: 80. Se trata de reviews que son positivas pero el modelo trata como negativas. Las penalizamos, puesto que se desperdician recursos que podrían aprovecharse con los clientes enfadados, aunque es un error menos grave que el falso positivo\n",
    "\n",
    "Los números son arbitrarios y pueden modificarse según las peculiaridades de cada caso de uso. Para el presente, esta función servirá para poder cuantificar y comparar los modelos de manera económica."
   ]
  },
  {
   "cell_type": "code",
   "execution_count": 22,
   "metadata": {},
   "outputs": [],
   "source": [
    "def coste_modelo(modelo, \n",
    "                 coste_verdaderos_negativos=100,\n",
    "                 coste_verdaderos_positivos=50,\n",
    "                 coste_falsos_positivos=300,\n",
    "                 coste_falsos_negativos=80):\n",
    "    '''\n",
    "    La función necesita el modelo, y que los objetos de test estén definidos. Los costes\n",
    "    están puestos por defecto, pero pueden modificarse\n",
    "    '''\n",
    "    # Primero se obtiene la predicción\n",
    "    y_pred = modelo.predict(X_test)\n",
    "    \n",
    "    # Con la predicción, se obtiene la matriz de confusión\n",
    "    matriz_confusion = confusion_matrix(y_test, y_pred)\n",
    "    \n",
    "    # Se extrae cada uno de los tipos de clasificacion de la matriz\n",
    "    verdaderos_negativos = matriz_confusion[0][0]\n",
    "    falsos_positivos = matriz_confusion[0][1]\n",
    "    verdaderos_positivos =  matriz_confusion[1][1]\n",
    "    falsos_negativos = matriz_confusion[1][0]\n",
    "    \n",
    "    # Se calcula el coste con los valores de cada clasificacion\n",
    "    coste = np.sum([(-1)*coste_verdaderos_negativos*verdaderos_negativos, # son perdidas que se evitan \n",
    "                    coste_falsos_negativos*falsos_negativos,\n",
    "                    (-1)*coste_verdaderos_positivos*verdaderos_positivos, # son pérdidas que se evitan\n",
    "                    coste_falsos_positivos*falsos_positivos])\n",
    "    return coste"
   ]
  },
  {
   "cell_type": "markdown",
   "metadata": {},
   "source": [
    "Definimos también una función para calcular la tasa de falsos positivos"
   ]
  },
  {
   "cell_type": "code",
   "execution_count": 28,
   "metadata": {},
   "outputs": [],
   "source": [
    "def tasa_falsos_positivos(modelo):\n",
    "    \n",
    "    # Se obtiene la predicción\n",
    "    y_pred = modelo.predict(X_test)\n",
    "    \n",
    "    # Se calcula la matriz  de confusión\n",
    "    matriz_confusion = confusion_matrix(y_test, y_pred)\n",
    "    \n",
    "    # Se extaraen cada uno de los elementos necesarios para calcular la tasa\n",
    "    falsos_positivos = matriz_confusion[0][1]\n",
    "    verdaderos_negativos = matriz_confusion[0][0]\n",
    "    \n",
    "    # Tasa de falsos positivos = falsos positivos / (falsos positivos + verdaderos negativos)\n",
    "    tasa_falsos_positivos = falsos_positivos / np.sum([falsos_positivos, \n",
    "                                                       verdaderos_negativos])\n",
    "    \n",
    "    return tasa_falsos_positivos"
   ]
  },
  {
   "cell_type": "markdown",
   "metadata": {},
   "source": [
    "## Entrenamiento de modelos"
   ]
  },
  {
   "cell_type": "markdown",
   "metadata": {},
   "source": [
    "Como el proceso es el mismo para todos los modelos, lo programamos en forma de loop, para recorrer una lista de modelos, generar cada modelo, entrenarlo, calcular sus métricas y guardarlo."
   ]
  },
  {
   "cell_type": "markdown",
   "metadata": {},
   "source": [
    "Cosntruimos la lista con todos los clasificadores. Aquí no se utilizan hiperparámetros, se comparan los modelos en su versión por defecto."
   ]
  },
  {
   "cell_type": "code",
   "execution_count": 23,
   "metadata": {},
   "outputs": [],
   "source": [
    "clasificadores =[\n",
    "    \n",
    "    LogisticRegression(),\n",
    "    MultinomialNB(),\n",
    "    KNeighborsClassifier(3),\n",
    "    Perceptron(),\n",
    "    PassiveAggressiveClassifier(),\n",
    "    SGDClassifier(),\n",
    "    DecisionTreeClassifier(),\n",
    "    # SVC(), decidimos excluirlo, tiempo de cómputo desproporcionado frente al resto de modelos, generaba\n",
    "    # muchos problemas\n",
    "    RandomForestClassifier(),\n",
    "    AdaBoostClassifier(),\n",
    "    GradientBoostingClassifier()\n",
    "    \n",
    "    ]"
   ]
  },
  {
   "cell_type": "markdown",
   "metadata": {},
   "source": [
    "Construimos el bucle para realizar el mismo proceso para cada uno de los clasificadores en la lista definida"
   ]
  },
  {
   "cell_type": "code",
   "execution_count": 25,
   "metadata": {
    "scrolled": false
   },
   "outputs": [
    {
     "name": "stdout",
     "output_type": "stream",
     "text": [
      "LogisticRegression()\n",
      "Accuracy en test: 0.89\n",
      "F1: 0.891\n",
      "Tasa de falsos positivos: 12.268 %\n",
      "Ganancias de 441860 €\n",
      "------------------------------------------------------\n",
      "MultinomialNB()\n",
      "Accuracy en test: 0.86\n",
      "F1: 0.857\n",
      "Tasa de falsos positivos: 11.829 %\n",
      "Ganancias de 408670 €\n",
      "------------------------------------------------------\n",
      "KNeighborsClassifier(n_neighbors=3)\n",
      "Accuracy en test: 0.76\n",
      "F1: 0.775\n",
      "Tasa de falsos positivos: 31.079 %\n",
      "Ganancias de 17990 €\n",
      "------------------------------------------------------\n",
      "Perceptron()\n",
      "Accuracy en test: 0.87\n",
      "F1: 0.867\n",
      "Tasa de falsos positivos: 11.49 %\n",
      "Ganancias de 425870 €\n",
      "------------------------------------------------------\n",
      "PassiveAggressiveClassifier()\n",
      "Accuracy en test: 0.878\n",
      "F1: 0.879\n",
      "Tasa de falsos positivos: 12.587 %\n",
      "Ganancias de 422330 €\n",
      "------------------------------------------------------\n",
      "SGDClassifier()\n",
      "Accuracy en test: 0.889\n",
      "F1: 0.89\n",
      "Tasa de falsos positivos: 12.627 %\n",
      "Ganancias de 435440 €\n",
      "------------------------------------------------------\n",
      "DecisionTreeClassifier()\n",
      "Accuracy en test: 0.712\n",
      "F1: 0.71\n",
      "Tasa de falsos positivos: 28.267 %\n",
      "Pérdidas de 5950 €\n",
      "------------------------------------------------------\n",
      "RandomForestClassifier()\n",
      "Accuracy en test: 0.853\n",
      "F1: 0.852\n",
      "Tasa de falsos positivos: 14.143 %\n",
      "Ganancias de 368380 €\n",
      "------------------------------------------------------\n",
      "AdaBoostClassifier()\n",
      "Accuracy en test: 0.801\n",
      "F1: 0.807\n",
      "Tasa de falsos positivos: 23.379 %\n",
      "Ganancias de 175380 €\n",
      "------------------------------------------------------\n",
      "GradientBoostingClassifier()\n",
      "Accuracy en test: 0.808\n",
      "F1: 0.817\n",
      "Tasa de falsos positivos: 24.137 %\n",
      "Ganancias de 174220 €\n",
      "------------------------------------------------------\n"
     ]
    }
   ],
   "source": [
    "np.random.seed(123) # para poder reproducir los resultados\n",
    "\n",
    "for clasificador in clasificadores:\n",
    "    \n",
    "    # Todos los modelos constarán de dos pasos\n",
    "    modelo = Pipeline(steps=[\n",
    "        \n",
    "        # Primer paso: el texto pasa por el vectorizador Tf-Idf, que genera vectores a partir del texto\n",
    "        ('vectorizador', vectorizador_tfidf), \n",
    "        \n",
    "        # Segundo paso: los vectores entran al clasificador, que varía segun se itera \n",
    "        # sobre la lista de clasificadores\n",
    "        ('clasificador', clasificador)]) \n",
    "    \n",
    "    # Para cada clasificador de la lista, se ejecutan las siguientes operaciones:\n",
    "    # Se entrena el modelo\n",
    "    modelo = modelo.fit(X_train, y_train)\n",
    "    \n",
    "    # Se calculan diferntes métricas\n",
    "    accuracy = modelo.score(X_test, y_test)\n",
    "    \n",
    "    y_pred = modelo.predict(X_test)\n",
    "    \n",
    "    f1 = f1_score(y_test, y_pred)\n",
    "    \n",
    "    tasa_falsos_positivos = tasa_falsos_positivos(modelo) *  100 \n",
    "    \n",
    "    # Se calculan las pérdidas/ganancias asociadas a cada modelo\n",
    "    coste = coste_modelo(modelo) \n",
    "    \n",
    "    # Se guarda cada modelo con su nombre en la carpeta de clasificadores, en modelos entrenados\n",
    "    ruta = f'../models/trained_models/classifiers/{clasificador}.sav'\n",
    "    guardar_modelo(modelo, ruta)\n",
    "    \n",
    "    # Se imprime cada clasificafor con sus métricas\n",
    "    print(clasificador)\n",
    "    print('Accuracy en test:', round(accuracy, 3))\n",
    "    print('F1:', round(f1, 3))\n",
    "    print('Tasa de falsos positivos:', round(tasa_falsos_positivos, 3), '%')\n",
    "    \n",
    "    # El cálculo de la matriz de coste: si el resultado es negativo, significa gananicas\n",
    "    if (coste < 0):\n",
    "        print('Ganancias de', (-1)*coste, '€') # si es negativo se le cambia el signo y se imprime como ganancias\n",
    "    else:\n",
    "        print('Pérdidas de', coste, '€')\n",
    "    print('------------------------------------------------------')"
   ]
  },
  {
   "cell_type": "markdown",
   "metadata": {},
   "source": [
    "Tal como se puede observar, el mejor modelo es la regresión logística, puesto que en términos económicos, es el modelo que más ganancias genera a la empresa. Además, presenta una tasa de falsos positivos muy baja, de las más bajas de entre todos los modelos, y los mejores valores de accuracy y F1. Este clasificador es candidato a ser el ganador, en cuyo caso pasaría a la parte de optimización de hiperparámetros. No obstante, antes de escoger este modelo, en el siguiente notebook se construyen algunas redes neuronales y se comparan los resultados con la logística, por si se consiguiese un modelo superior."
   ]
  },
  {
   "cell_type": "markdown",
   "metadata": {},
   "source": [
    "Podemos hacer una evaluación preliminar de la logística, pero no profundizamos en las métricas porque éstas se calcularan con el modelo ganador optimizado"
   ]
  },
  {
   "cell_type": "markdown",
   "metadata": {},
   "source": [
    "Cargamos el modelo entrenados entrenado en la última sesión"
   ]
  },
  {
   "cell_type": "code",
   "execution_count": 3,
   "metadata": {},
   "outputs": [],
   "source": [
    "logit = cargar_modelo('../models/trained_models/classifiers/LogisticRegression().sav')"
   ]
  },
  {
   "cell_type": "markdown",
   "metadata": {},
   "source": [
    "Definimos una función para representar gráficamente la matriz de costes, a parte de la matriz de confusión."
   ]
  },
  {
   "cell_type": "code",
   "execution_count": 82,
   "metadata": {},
   "outputs": [],
   "source": [
    "def plot_matriz_coste(modelo, \n",
    "                          titulo='Matriz de coste',\n",
    "                          coste_verdaderos_negativos=100,\n",
    "                          coste_verdaderos_positivos=50,\n",
    "                          coste_falsos_positivos=300,\n",
    "                          coste_falsos_negativos=80,   \n",
    "                          color='RdYlGn'):\n",
    "    '''\n",
    "    Función para representar la matrizde costes, con los costes de cada\n",
    "    error por defecto\n",
    "    '''\n",
    "    prediccion = modelo.predict(X_test) # la predicción\n",
    "    \n",
    "    confusion = confusion_matrix(y_test, prediccion) # la matriz de confusión\n",
    "    \n",
    "    # Definimos los elementos que van a ir dentro del gráfico: texto y número\n",
    "    etiquetas = ['Verdaderos negativos', 'Falsos positivos', \n",
    "                 'Falsos negativos', 'Verdaderos positivos']\n",
    "    \n",
    "    # Se aisla cada elemento para facilitar los calculos\n",
    "    falsos_positivos = confusion[0][1]\n",
    "    falsos_negativos = confusion[1][0]\n",
    "    verdaderos_negativos = confusion[0][0]\n",
    "    verdaderos_possitivos = confusion[1][1]\n",
    "    \n",
    "    # Se calculan los costes de cada clase\n",
    "    coste_total_falsos_positivos = coste_falsos_positivos * falsos_positivos\n",
    "    coste_total_falsos_negativos = coste_falsos_negativos * falsos_negativos\n",
    "    coste_total_verdaderos_positivos = (-1) * coste_verdaderos_positivos * verdaderos_possitivos\n",
    "    coste_total_verdaderos_negativos = (-1) * coste_verdaderos_negativos * verdaderos_negativos\n",
    "    \n",
    "    # Se almacenan en una lista\n",
    "    costes = [coste_total_verdaderos_negativos, coste_total_falsos_positivos,\n",
    "             coste_total_falsos_negativos, coste_total_verdaderos_positivos]\n",
    "    \n",
    "    # Formato a euros\n",
    "    coste_euros = ['{:0.0f} €'.format(value) for value in costes]\n",
    "    \n",
    "    # Formateo de las etiquetas para poder plotearlas\n",
    "    labels = [f'{v1}\\n{v2}' for v1, v2 in\n",
    "              zip(etiquetas, coste_euros)]\n",
    "    \n",
    "    labels = np.asarray(labels).reshape(2,2)\n",
    "    \n",
    "    # Y ahora el plot\n",
    "    plt.subplots(figsize=(12, 7))\n",
    "    \n",
    "    sns.heatmap(confusion, annot=labels, fmt='', cmap=color)\n",
    "    plt.title(titulo)\n",
    "    plt.xlabel('Valor estimado')\n",
    "    plt.ylabel('Valor real'); "
   ]
  },
  {
   "cell_type": "markdown",
   "metadata": {},
   "source": [
    "Representamos la matriz de confusión y la matriz de costes de la logística"
   ]
  },
  {
   "cell_type": "code",
   "execution_count": 86,
   "metadata": {
    "scrolled": false
   },
   "outputs": [
    {
     "data": {
      "image/png": "[encoded data removed]",
      "text/plain": [
       "<Figure size 864x504 with 2 Axes>"
      ]
     },
     "metadata": {
      "needs_background": "light"
     },
     "output_type": "display_data"
    }
   ],
   "source": [
    "plot_matriz_confusion(logit, 'Matriz de confusión, regrsion Logistica')"
   ]
  },
  {
   "cell_type": "markdown",
   "metadata": {},
   "source": [
    "La matriz de confusión está normalizada por filas, de tal modo que se muestran las distintas tasas (falsos positivos, falsos negativos...etc) Vemos tasas muy positivas en comparación al resto de modelos"
   ]
  },
  {
   "cell_type": "code",
   "execution_count": 88,
   "metadata": {
    "scrolled": false
   },
   "outputs": [
    {
     "data": {
      "image/png": "[encoded data removed]",
      "text/plain": [
       "<Figure size 864x504 with 2 Axes>"
      ]
     },
     "metadata": {
      "needs_background": "light"
     },
     "output_type": "display_data"
    }
   ],
   "source": [
    "plot_matriz_coste(logit, 'Matriz de costes, regresión logística')"
   ]
  },
  {
   "cell_type": "markdown",
   "metadata": {},
   "source": [
    "La matriz de costes complementa a la matriz de confusión en el sentido de que cuantifica de manera económica el valor de cada una de las clases. Vemos como el valor generado por los aciertos supera con creces el coste de los fallos, haciendo que el modelo sea rentable.\n",
    "\n",
    "En el siguiente notebook se construirán diferentes redes neuronales que se compararán con la logística."
   ]
  }
 ],
 "metadata": {
  "kernelspec": {
   "display_name": "Python 3",
   "language": "python",
   "name": "python3"
  },
  "language_info": {
   "codemirror_mode": {
    "name": "ipython",
    "version": 3
   },
   "file_extension": ".py",
   "mimetype": "text/x-python",
   "name": "python",
   "nbconvert_exporter": "python",
   "pygments_lexer": "ipython3",
   "version": "3.7.9"
  }
 },
 "nbformat": 4,
 "nbformat_minor": 4
}
