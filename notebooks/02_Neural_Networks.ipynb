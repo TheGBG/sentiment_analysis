{
 "cells": [
  {
   "cell_type": "markdown",
   "metadata": {},
   "source": [
    "## Autores: \n",
    "Blanco García, Gabriel: gabriel.blanco@cunef.edu   \n",
    "Ferrín Meilá, Michelle: michelle.ferrin@cunef.edu"
   ]
  },
  {
   "cell_type": "markdown",
   "metadata": {},
   "source": [
    "# Redes neuroales\n",
    "\n",
    "<img src='https://www.phdmedia.com/australia/wp-content/uploads/sites/23/2017/11/Ai-banner.jpg' width=4000>"
   ]
  },
  {
   "cell_type": "markdown",
   "metadata": {},
   "source": [
    "En este notebook se construyen tres redes neuronales básicas, se evalua su rendimiento y se comparan con la regresión logística, eligiendo finalmente un modelo ganador. Para ello, se emplea `Keras` y `Tensorflow`"
   ]
  },
  {
   "cell_type": "code",
   "execution_count": 1,
   "metadata": {},
   "outputs": [
    {
     "name": "stderr",
     "output_type": "stream",
     "text": [
      "Using TensorFlow backend.\n"
     ]
    }
   ],
   "source": [
    "# Ocultar warnings\n",
    "import warnings\n",
    "warnings.filterwarnings(\"ignore\")\n",
    "\n",
    "# Operaciones báscias\n",
    "import pandas as pd\n",
    "import numpy as np\n",
    "import matplotlib.pyplot as plt \n",
    "import seaborn as sns \n",
    "import pickle\n",
    "\n",
    "# Tensorflow y Keras\n",
    "import tensorflow as tf\n",
    "from tensorflow import keras\n",
    "\n",
    "# Vectorización del texto con Keras\n",
    "from keras_preprocessing.text import Tokenizer\n",
    "from keras.preprocessing.sequence import pad_sequences\n",
    "from keras.preprocessing import sequence\n",
    "\n",
    "# Modelos y optimizador Adam\n",
    "from keras.models import Model\n",
    "from keras.models import Sequential\n",
    "from keras.optimizers import Adam\n",
    "\n",
    "# Distintos tipos de capas de las redes neuronales\n",
    "from keras.layers import Dense \n",
    "from keras.layers import Input \n",
    "from keras.layers import Flatten\n",
    "from keras.layers import GlobalAveragePooling1D \n",
    "from keras.layers import Embedding\n",
    "from keras.layers import LSTM\n",
    "\n",
    "# Critrerios de parada temprana para las redes\n",
    "from keras.callbacks import EarlyStopping\n",
    "\n",
    "# Guardar y cargar modelos de redes neuronales\n",
    "from keras.models import model_from_json\n",
    "\n",
    "# Metricas de la logit\n",
    "from sklearn.metrics import confusion_matrix\n",
    "from sklearn.metrics import roc_auc_score\n",
    "\n",
    "# Nuestras funciones\n",
    "%run ../src/operar_modelos.ipynb\n",
    "%run ../src/plots_metricas.ipynb"
   ]
  },
  {
   "cell_type": "markdown",
   "metadata": {},
   "source": [
    "## Importación de los datos\n",
    "\n",
    "Cargamos como siempre los conjuntos de train y test"
   ]
  },
  {
   "cell_type": "code",
   "execution_count": 2,
   "metadata": {},
   "outputs": [],
   "source": [
    "X_train = pd.read_pickle('../data/train/X_train.sav')\n",
    "y_train = pd.read_pickle('../data/train/y_train.sav')\n",
    "\n",
    "X_test = pd.read_pickle('../data/test/X_test.sav')\n",
    "y_test = pd.read_pickle('../data/test/y_test.sav')"
   ]
  },
  {
   "cell_type": "markdown",
   "metadata": {},
   "source": [
    "## Concepto de red neuronal"
   ]
  },
  {
   "cell_type": "markdown",
   "metadata": {},
   "source": [
    "Las redes neuronales son modelos de Machine Learning que difieren de los clasificadores empleados en el anterior notebook. Su nombre se debe a que su construcción se asemeja ligeramente a la conexión entre las neuronas del cerebro humano. \n",
    "\n",
    "El objetivo de las redes es el mismo que el de todos los modelos de clasificación: calcular los pesos o parámetros que acompañan a unas determinadas variables en la modelización de la relación entre una variable dependiente, y unas variables predictoras. En otras palabras, cuánto influye cada predictor en la variable dependiente. Este cálculo se hace minimizando funciones de coste, para lo cual se pueden emplear distintos optimizadores. La diferencia con los clasificadores está en cómo se construyen las redes.\n",
    "\n",
    "Las redes neuronales se componen de un mínimo de tres capas:\n",
    "\n",
    "- __Capa input__: por donde recibe los inputs, los datos del problema, las variables, etc.\n",
    "- __Capa oculta__: es la capa que realiza los diferentes cálculos.\n",
    "- __Capa output__: la capa con la que el modelo genra los output\n",
    "\n",
    "Esa es la estructura básica, pero se pueden cosntruir múltiples capas ocultas. Se suele demoniar _Deep Learning_ al uso de aquellas redes que empleen dos o más capas ocultas.\n",
    "\n",
    "<img src='https://i.redd.it/q3n8ip6bqrq11.png'>\n",
    "\n",
    "Las capas, a su vez, se componen de neuronas, que son cada una de las unidades encargadas de calcular los pesos. Estas neuronas cuentan con funciones de activación, que son las que emplean en el cáclculo.\n",
    "\n",
    "\n",
    "El proceso es iterativo, y sigue las siguientes etapas:\n",
    "\n",
    "1. Cada uno de los inputs entra en la red, y se calculan sus pesos \n",
    "2. Se agregan los pesos y se añade una constante, también llamada _bias_ o sesgo\n",
    "3. La agregación pasa a la función de activación, que genera un ouput\n",
    "4. Este output pasa a la siguiente capa de la red.\n",
    "5. Se repite el proceso tantas veces como épocas tenga la red.\n",
    "\n",
    "<img src='https://qph.fs.quoracdn.net/main-qimg-b019133b165292e51bcbac7b26f0ad61'>\n",
    "\n",
    "\n",
    "\n",
    "Por tanto, existen múltiples decisiones que hay que tomar, cuyo impacto puede ser crítico en el restultado de la modelización. Algunas de ellas son:\n",
    "\n",
    "- Número de capas que se emplean.\n",
    "- Número de neuronas de cada capa.\n",
    "- Tipo de capas que se emplean.\n",
    "- Posición de cada capa.\n",
    "- Función de actvicación de cada capa.\n",
    "- Optimizador que se emplea.\n",
    "- Épocas durante las que se va a entrenar la red.\n",
    "- Criterios de parada temprana: cuando se considera que no merece la pena que la red siga entrenando. \n",
    "- Función de coste a minimizar.\n",
    "\n",
    "\n",
    "Por último, el proceso por el cual se optimizan los pesos de la red neuronal se conoce como _backpropagation_, y consiste en estimar los pesos de manera iterativa a través del último peso, derivadas parciales y descenso del gradiente. No obstante, este último paso no se realiza siempre así. Nosotros utilizaremos el optimizador Adam en lugar del Stochastic Gradient Descent."
   ]
  },
  {
   "cell_type": "markdown",
   "metadata": {},
   "source": [
    "## Vectorización\n",
    "\n",
    "Con redes neuronales y keras, la vectorización y el preparado de los datos cambia ligeramente. Utilizaremos los datos limpios, pero en lugar de usar los vectorizadores y tokenizadores de sklearn, usaremos los de Keras. No obstante, la vectorización es similar, y persigue los mismos objetivos: transformar el texto en vectores, puesto que las redes neuronales tampoco funcionan con texto"
   ]
  },
  {
   "cell_type": "markdown",
   "metadata": {},
   "source": [
    "Primero, se convierte el texto a frases, utilizando `tokenizer.texts_to_sequences()` sobrec cada conjunto"
   ]
  },
  {
   "cell_type": "code",
   "execution_count": 3,
   "metadata": {},
   "outputs": [],
   "source": [
    "np.random.seed(1234)\n",
    "\n",
    "# Inicializamos y ajustamos el tokenizador\n",
    "tokenizer = Tokenizer()\n",
    "tokenizer.fit_on_texts(X_train)\n",
    "\n",
    "# Lo aplicamos a cada tramo\n",
    "X_train = tokenizer.texts_to_sequences(X_train)\n",
    "X_test = tokenizer.texts_to_sequences(X_test)\n",
    "\n",
    "# Es necesario definir el tamaño del vocabulario para las redes\n",
    "vocab_size = len(tokenizer.word_index) + 1  # se añade 1 para tener un hueco reservado para palabras descononcidas"
   ]
  },
  {
   "cell_type": "markdown",
   "metadata": {},
   "source": [
    "Después, se vectorizan. Es necesario determinar el máximo número de palabras a considerar para cada vector"
   ]
  },
  {
   "cell_type": "code",
   "execution_count": 7,
   "metadata": {},
   "outputs": [],
   "source": [
    "# Máxima longitud que consideramos de cada frase\n",
    "maxlen = 250\n",
    "\n",
    "X_train = pad_sequences(X_train, \n",
    "                        padding='post', # el pad se hace después de cada frase \n",
    "                        maxlen=maxlen)\n",
    "\n",
    "X_test = pad_sequences(X_test, \n",
    "                       padding='post', \n",
    "                       maxlen=maxlen)\n",
    "\n",
    "dimensiones_input = X_train.shape[1] # numero de variables, se utilizará en las redes"
   ]
  },
  {
   "cell_type": "markdown",
   "metadata": {},
   "source": [
    "## Entrenamiento de las redes\n",
    "\n",
    "Vamos a montar tres redes neuronales, variando la capa segunda capa. Utilizaremos flatten, mgp y lstm. No obstante, hay partes que serán comunes a las tres redes, y que comentaremos a continuación. Estas partes son el _word embedding_, los _criterios de parada temprana_ y las _métricas_."
   ]
  },
  {
   "cell_type": "markdown",
   "metadata": {},
   "source": [
    "### Word embeddings\n",
    "\n",
    "Los word embeddings son una manera de representar los vectores de palabras en un espacio vectoiral. Son un intento de representación geométrica para el lenguaje humano. Se construyen a partir del máximo número de tokens posibles (se calcula en la tokenización) y una serie de parámetros a determinar, que fijan las dimnesiones del embedding. Esta será la primera capa de las tres redes, puesto que es necesaria para pasar de palabras a números."
   ]
  },
  {
   "cell_type": "markdown",
   "metadata": {},
   "source": [
    "### Criterios de parada temprana\n",
    "\n",
    "Como su nombre indica, son criterios que se establecen para limitar el coste computacional. Se establece una regla, basada en una métrica, que determina si la red sigue entrenando o no. En concreto, usaremos la pérdida en test, y 3 épocas como máximo. Si la pérdida en el conjunto de test, durante tres épocas consecutivas, aumenta, se para el entrenamiento, porque se considera que la red ha llegado al tope, y que no merece la pena seguir entrenandola. Usaremos el mismo criterio en las tres redes. El criterio se define a continuación."
   ]
  },
  {
   "cell_type": "code",
   "execution_count": 30,
   "metadata": {},
   "outputs": [],
   "source": [
    "# Definimos un criterio de parada temprana\n",
    "early_stop = EarlyStopping(monitor='val_loss', \n",
    "                           patience=3, # si en 3 epoch no hay bajado el loss, para \n",
    "                           verbose=1, \n",
    "                           mode='min')"
   ]
  },
  {
   "cell_type": "markdown",
   "metadata": {},
   "source": [
    "### Métricas\n",
    "\n",
    "Finalmente, las métricas que se usaran para evaluar las redes serán siempre las mismas, y son el AUC y las tasas de falsos positivos, falsos negativos, verdaderos positivos y verdaderos negativos. Se definen las métricas antes del entrenamiento, para que se vayan calculando para cada época de las redes, aunque solo tendremos en cuenta las de la última época"
   ]
  },
  {
   "cell_type": "code",
   "execution_count": 7,
   "metadata": {},
   "outputs": [],
   "source": [
    "# Definimos algunas métricas \n",
    "# Area bajo la curva roc\n",
    "auc = tf.keras.metrics.AUC()\n",
    "\n",
    "# Cada uno de los tipos de clasificacion\n",
    "# Con estas podremos calcular el coste del modelo y la matriz de confusión\n",
    "verdaderos_negativos = tf.keras.metrics.TrueNegatives()\n",
    "falsos_negativos = tf.keras.metrics.FalseNegatives()\n",
    "verdaderos_positivos = tf.keras.metrics.TruePositives()\n",
    "falsos_positivos = tf.keras.metrics.FalsePositives()"
   ]
  },
  {
   "cell_type": "markdown",
   "metadata": {},
   "source": [
    "A continuación construimos y entrenamos las redes"
   ]
  },
  {
   "cell_type": "markdown",
   "metadata": {},
   "source": [
    "## Red con Flatten"
   ]
  },
  {
   "cell_type": "markdown",
   "metadata": {},
   "source": [
    "Flatten es una capa básica, que como su nombre indica, \"aplana\". Su funcionamiento consiste en aplanar la matriz con todos los vectores de los input y sus valores y transformarlos en un array. La primera red utilizará esta capa como segunda capa"
   ]
  },
  {
   "cell_type": "code",
   "execution_count": 33,
   "metadata": {
    "scrolled": false
   },
   "outputs": [
    {
     "name": "stdout",
     "output_type": "stream",
     "text": [
      "Model: \"sequential_6\"\n",
      "_________________________________________________________________\n",
      "Layer (type)                 Output Shape              Param #   \n",
      "=================================================================\n",
      "embedding_6 (Embedding)      (None, 250, 25)           3775050   \n",
      "_________________________________________________________________\n",
      "flatten_6 (Flatten)          (None, 6250)              0         \n",
      "_________________________________________________________________\n",
      "dense_11 (Dense)             (None, 10)                62510     \n",
      "_________________________________________________________________\n",
      "dense_12 (Dense)             (None, 1)                 11        \n",
      "=================================================================\n",
      "Total params: 3,837,571\n",
      "Trainable params: 3,837,571\n",
      "Non-trainable params: 0\n",
      "_________________________________________________________________\n"
     ]
    }
   ],
   "source": [
    "embedding_dim = 25 # las dimensiones a las que restringimos el embedding\n",
    "\n",
    "modelo_flatten = Sequential() # inicio de la red\n",
    "\n",
    "# La primera capa genera el embedding, con los parámetros ya definidos (común a todas las redes)\n",
    "modelo_flatten.add(layers.Embedding(input_dim=vocab_size, \n",
    "                                    output_dim=embedding_dim, \n",
    "                                    input_length=maxlen))\n",
    "\n",
    "modelo_flatten.add(layers.Flatten()) # añadimos la capa flatten\n",
    "\n",
    "# La función de activacion ReLU(Rectified Linear Unit) es una función f(x) = max(0, x), es decir, recibe un \n",
    "# input, y devuelve como output el máximo entre 0 y ese input\n",
    "modelo_flatten.add(layers.Dense(10, \n",
    "                                activation='relu')) # y dos capas normales, con distinto numero de neuronas.\n",
    "\n",
    "# La ultima capa utiliza la Sigmoide como función de activación, de la forma ya conocida f(x) = 1 / 1 + e^-x \n",
    "modelo_flatten.add(layers.Dense(1, \n",
    "                                activation='sigmoid')) \n",
    "\n",
    "# Compilamos la red\n",
    "modelo_flatten.compile(optimizer='adam', # usamos el optimzador adam, que es conocido por ofrecer buenos resultados\n",
    "                       loss='binary_crossentropy',\n",
    "                       \n",
    "                       # Añadimos nuestras métricas\n",
    "                       metrics=['accuracy',  \n",
    "                       auc, \n",
    "                       verdaderos_negativos, \n",
    "                       falsos_negativos,\n",
    "                       verdaderos_positivos,\n",
    "                       falsos_positivos])\n",
    "\n",
    "# Con summary podemo ver el resumen de la red antes de entrenarla\n",
    "modelo_flatten.summary()"
   ]
  },
  {
   "cell_type": "markdown",
   "metadata": {},
   "source": [
    "Entrenamos la primera red"
   ]
  },
  {
   "cell_type": "code",
   "execution_count": 34,
   "metadata": {},
   "outputs": [
    {
     "name": "stdout",
     "output_type": "stream",
     "text": [
      "Train on 30000 samples, validate on 10000 samples\n",
      "Epoch 1/25\n",
      "30000/30000 [==============================] - 166s 6ms/step - loss: 0.3657 - accuracy: 0.8262 - auc_6: 0.8183 - true_negatives_3: 8056.8521 - false_negatives_1: 3116.8916 - true_positives_1: 6462.7866 - false_positives_4: 1648.4657 - val_loss: 0.2909 - val_accuracy: 0.8819 - val_auc_6: 0.9066 - val_true_negatives_3: 16809.4863 - val_false_negatives_1: 4430.8589 - val_true_positives_1: 15106.8838 - val_false_positives_4: 2937.7700\n",
      "Epoch 2/25\n",
      "30000/30000 [==============================] - 164s 5ms/step - loss: 0.0681 - accuracy: 0.9758 - auc_6: 0.9407 - true_negatives_3: 26328.1621 - false_negatives_1: 5019.9814 - true_positives_1: 24500.6934 - false_positives_4: 3436.1509 - val_loss: 0.4420 - val_accuracy: 0.8584 - val_auc_6: 0.9585 - val_true_negatives_3: 35978.3516 - val_false_negatives_1: 5561.4590 - val_true_positives_1: 33917.2773 - val_false_positives_4: 3827.8960\n",
      "Epoch 3/25\n",
      "30000/30000 [==============================] - 170s 6ms/step - loss: 0.0056 - accuracy: 0.9986 - auc_6: 0.9667 - true_negatives_3: 45716.2031 - false_negatives_1: 6032.8306 - true_positives_1: 43428.7773 - false_positives_4: 4107.1445 - val_loss: 0.5721 - val_accuracy: 0.8592 - val_auc_6: 0.9722 - val_true_negatives_3: 55410.0664 - val_false_negatives_1: 6381.5732 - val_true_positives_1: 53038.1250 - val_false_positives_4: 4455.2368\n",
      "Epoch 4/25\n",
      "30000/30000 [==============================] - 169s 6ms/step - loss: 2.5417e-04 - accuracy: 1.0000 - auc_6: 0.9749 - true_negatives_3: 65069.3164 - false_negatives_1: 6742.0000 - true_positives_1: 62660.6562 - false_positives_4: 4813.0000 - val_loss: 0.6576 - val_accuracy: 0.8585 - val_auc_6: 0.9771 - val_true_negatives_3: 74724.7500 - val_false_negatives_1: 7051.5752 - val_true_positives_1: 72309.1797 - val_false_positives_4: 5199.5479\n",
      "Epoch 00004: early stopping\n"
     ]
    }
   ],
   "source": [
    "epochs = 25 # usaremos siempre 25 épocas\n",
    "batch_size = 10 # es el tamaño de cada muestra \n",
    "\n",
    "np.random.seed(1234)\n",
    "historial_modelo_flatten = modelo_flatten.fit(X_train, y_train, # los conjuntos de entrenamiento\n",
    "                                             epochs=epochs, # las épocas\n",
    "                                             verbose=1, # para ver información del proceso\n",
    "                                             validation_data=(X_test, y_test), # para calcular las métricas\n",
    "                                             batch_size=batch_size, \n",
    "                                             shuffle=False,\n",
    "                                             callbacks = [early_stop]) # los criterios de parada temprana"
   ]
  },
  {
   "cell_type": "markdown",
   "metadata": {},
   "source": [
    "Para poder visualizar el rendimiento de cada red, definimos una función que represente gráficamente la evolución del accuracy y de la pérdida, en train y test, para cada época"
   ]
  },
  {
   "cell_type": "code",
   "execution_count": 165,
   "metadata": {},
   "outputs": [],
   "source": [
    "def plot_history(historial_red_neuronal):\n",
    "    '''\n",
    "    Función para plotear la comparación del accuracy en test y train a lo largo\n",
    "    de las épocas de la red neuronal\n",
    "    '''\n",
    "    \n",
    "    plt.style.use('ggplot') # Estilo ggplot2\n",
    "    \n",
    "    # Acceso a cada una de las métricas del historial, que se dan en forma de diccionario\n",
    "    accuracy_train = historial_red_neuronal.history['accuracy']\n",
    "    accuracy_test = historial_red_neuronal.history['val_accuracy']\n",
    "    loss_train = historial_red_neuronal.history['loss']\n",
    "    loss_test = historial_red_neuronal.history['val_loss']\n",
    "    \n",
    "    # Los datos del eje x\n",
    "    x = range(1, len(accuracy_train) + 1)\n",
    "\n",
    "    # Los plots\n",
    "    plt.figure(figsize=(12, 5))\n",
    "    # Primer plot: accuracy\n",
    "    plt.subplot(1, 2, 1)\n",
    "    plt.plot(x, accuracy_train, 'green', label='Accuracy en entrenamiento')\n",
    "    plt.plot(x, accuracy_test, 'red', label='Accuracy en test')\n",
    "    plt.title('Accuracy en entrenamiento y test')\n",
    "    plt.legend() \n",
    "    \n",
    "    # Segundo plot: pérdida\n",
    "    plt.subplot(1, 2, 2)\n",
    "    plt.plot(x, loss_train, 'green', label='Pérdida en entrenamiento')\n",
    "    plt.plot(x, loss_test, 'red', label='Pérdida en test')\n",
    "    plt.title('Pérdida en entrenamiento y test')\n",
    "    plt.legend()"
   ]
  },
  {
   "cell_type": "code",
   "execution_count": 166,
   "metadata": {
    "scrolled": false
   },
   "outputs": [
    {
     "data": {
      "image/png": "[encoded data removed]",
      "text/plain": [
       "<Figure size 864x360 with 2 Axes>"
      ]
     },
     "metadata": {},
     "output_type": "display_data"
    }
   ],
   "source": [
    "plot_history(historial_modelo_flatten) # se usa la history, no el modelo"
   ]
  },
  {
   "cell_type": "markdown",
   "metadata": {},
   "source": [
    "Vemosahora la utilidad del criterio de parada temprana. A partir de la época 2, el accuracy se estabiliza y la pérdida se dispara, y no tendría sentido seguir entrenando la red, que ha seguido otras dos épocas. Quizá habría que restringir más aún la parada temprana."
   ]
  },
  {
   "cell_type": "markdown",
   "metadata": {},
   "source": [
    "Definimos dos funciones, una para guardar las redes y sus pesos, y otra para cargar la red y los pesos en la misma"
   ]
  },
  {
   "cell_type": "code",
   "execution_count": 37,
   "metadata": {},
   "outputs": [],
   "source": [
    "def guardar_red_neuronal(red_neuronal, nombre):\n",
    "    \n",
    "    # Se guarda la red\n",
    "    red_neuronal_json = red_neuronal.to_json() # se pasa a json\n",
    "    ruta_red = f'../models/trained_models/neural_networks/{nombre}.json' # se genera la ruta\n",
    "    \n",
    "    # Se guarda la red\n",
    "    with open(ruta_red, 'w') as json_file:\n",
    "        json_file.write(red_neuronal_json)\n",
    "    \n",
    "    # Se guardan sus pesos en formato h5\n",
    "    ruta_pesos = f'../models/trained_models/neural_networks/pesos_{nombre}.h5'\n",
    "    red_neuronal.save_weights(ruta_pesos)\n",
    "    \n",
    "    print(f'Red neuronal guardada en {ruta_red}')\n",
    "    print(f'Pesos guardados en {ruta_pesos}')"
   ]
  },
  {
   "cell_type": "code",
   "execution_count": 38,
   "metadata": {},
   "outputs": [],
   "source": [
    "def cargar_red_neuronal(nombre_red_neuronal):\n",
    "    \n",
    "    # Solo hay que introducir el nombre de la red, porque estaran guardadas en el mismo sitio toddas\n",
    "    ruta_red = f'../models/trained_models/neural_networks/{nombre_red_neuronal}.json'\n",
    "    \n",
    "    # Se carga como json\n",
    "    json_file = open(ruta_red, 'r')\n",
    "    modelo_cargado_json = json_file.read()\n",
    "    json_file.close()\n",
    "    \n",
    "    # Se convierte a red dede json\n",
    "    modelo_cargado = model_from_json(modelo_cargado_json)\n",
    "    \n",
    "    # Se cargan sus pesos y se añaden a la red\n",
    "    ruta_pesos = f'../models/trained_models/neural_networks/pesos_{nombre_red_neuronal}.h5'\n",
    "    modelo_cargado.load_weights(ruta_pesos)\n",
    "    \n",
    "    print('Red neuronal cargada, peso cargados')\n",
    "    return modelo_cargado"
   ]
  },
  {
   "cell_type": "markdown",
   "metadata": {},
   "source": [
    "## Red con Global Max Pool \n",
    "\n",
    "Esta capa recibe un input n-dimensional y devuelve como output el valor máximo de dicho input. El procedimiento es el mismo, así que no se comenta todo el código, puesto que lo único que varía es la segunda capa."
   ]
  },
  {
   "cell_type": "code",
   "execution_count": 39,
   "metadata": {
    "scrolled": true
   },
   "outputs": [
    {
     "name": "stdout",
     "output_type": "stream",
     "text": [
      "Model: \"sequential_7\"\n",
      "_________________________________________________________________\n",
      "Layer (type)                 Output Shape              Param #   \n",
      "=================================================================\n",
      "embedding_7 (Embedding)      (None, 250, 25)           3775050   \n",
      "_________________________________________________________________\n",
      "global_max_pooling1d_1 (Glob (None, 25)                0         \n",
      "_________________________________________________________________\n",
      "dense_13 (Dense)             (None, 10)                260       \n",
      "_________________________________________________________________\n",
      "dense_14 (Dense)             (None, 1)                 11        \n",
      "=================================================================\n",
      "Total params: 3,775,321\n",
      "Trainable params: 3,775,321\n",
      "Non-trainable params: 0\n",
      "_________________________________________________________________\n"
     ]
    }
   ],
   "source": [
    "# La configuración que se utiliza es la misma\n",
    "embedding_dim = 25\n",
    "\n",
    "modelo_gmp = Sequential() # inicio de la red\n",
    "\n",
    "# Capa del embedding\n",
    "modelo_gmp.add(layers.Embedding(input_dim=vocab_size, \n",
    "                                output_dim=embedding_dim, \n",
    "                                input_length=maxlen))\n",
    "\n",
    "# Resto de capas\n",
    "modelo_gmp.add(layers.GlobalMaxPool1D()) # esta vez usando GlobalMaxPool1d\n",
    "\n",
    "# Mismas tercera y ultima capa \n",
    "modelo_gmp.add(layers.Dense(10, activation='relu'))\n",
    "modelo_gmp.add(layers.Dense(1, activation='sigmoid'))\n",
    "\n",
    "# Compilacion de la red\n",
    "modelo_gmp.compile(optimizer='adam',\n",
    "                   loss='binary_crossentropy',\n",
    "                   metrics=['accuracy',  # usamos las mismas métricas\n",
    "                            auc, \n",
    "                            verdaderos_negativos, \n",
    "                            falsos_negativos,\n",
    "                            verdaderos_positivos,\n",
    "                            falsos_positivos])\n",
    "\n",
    "# Resumen de la red\n",
    "modelo_gmp.summary()"
   ]
  },
  {
   "cell_type": "code",
   "execution_count": 40,
   "metadata": {
    "scrolled": false
   },
   "outputs": [
    {
     "name": "stdout",
     "output_type": "stream",
     "text": [
      "Train on 30000 samples, validate on 10000 samples\n",
      "Epoch 1/25\n",
      "30000/30000 [==============================] - 180s 6ms/step - loss: 0.4267 - accuracy: 0.8031 - auc_6: 0.9694 - true_negatives_3: 83171.1484 - false_negatives_1: 9694.5645 - true_positives_1: 79649.0703 - false_positives_4: 6770.1807 - val_loss: 0.3278 - val_accuracy: 0.8596 - val_auc_6: 0.9658 - val_true_negatives_3: 91584.4531 - val_false_negatives_1: 11181.6582 - val_true_positives_1: 88120.0938 - val_false_positives_4: 8398.7686\n",
      "Epoch 2/25\n",
      "30000/30000 [==============================] - 171s 6ms/step - loss: 0.2668 - accuracy: 0.8885 - auc_6: 0.9644 - true_negatives_3: 100339.2891 - false_negatives_1: 12360.2734 - true_positives_1: 96924.2656 - false_positives_4: 9661.0059 - val_loss: 0.3130 - val_accuracy: 0.8673 - val_auc_6: 0.9635 - val_true_negatives_3: 109212.1328 - val_false_negatives_1: 13467.9863 - val_true_positives_1: 105774.6406 - val_false_positives_4: 10830.0527\n",
      "Epoch 3/25\n",
      "30000/30000 [==============================] - 180s 6ms/step - loss: 0.1975 - accuracy: 0.9228 - auc_6: 0.9638 - true_negatives_3: 118307.5000 - false_negatives_1: 14398.3730 - true_positives_1: 114827.2031 - false_positives_4: 11751.6104 - val_loss: 0.3256 - val_accuracy: 0.8656 - val_auc_6: 0.9641 - val_true_negatives_3: 127460.8438 - val_false_negatives_1: 15311.1338 - val_true_positives_1: 123872.4766 - val_false_positives_4: 12640.4238\n",
      "Epoch 4/25\n",
      "30000/30000 [==============================] - 177s 6ms/step - loss: 0.1403 - accuracy: 0.9485 - auc_6: 0.9651 - true_negatives_3: 136769.7344 - false_negatives_1: 16063.6719 - true_positives_1: 133102.8750 - false_positives_4: 13348.5254 - val_loss: 0.3545 - val_accuracy: 0.8618 - val_auc_6: 0.9660 - val_true_negatives_3: 146098.1406 - val_false_negatives_1: 16793.5566 - val_true_positives_1: 142331.1250 - val_false_positives_4: 14062.0869\n",
      "Epoch 5/25\n",
      "30000/30000 [==============================] - 169s 6ms/step - loss: 0.0973 - accuracy: 0.9658 - auc_6: 0.9671 - true_negatives_3: 155531.0469 - false_negatives_1: 17432.8125 - true_positives_1: 151674.8906 - false_positives_4: 14646.2480 - val_loss: 0.3938 - val_accuracy: 0.8599 - val_auc_6: 0.9681 - val_true_negatives_3: 165009.7812 - val_false_negatives_1: 18051.6895 - val_true_positives_1: 161013.9531 - val_false_positives_4: 15209.3584\n",
      "Epoch 00005: early stopping\n"
     ]
    }
   ],
   "source": [
    "np.random.seed(1234)\n",
    "\n",
    "# Entrenamiento de la red\n",
    "historial_modelo_gmp = modelo_gmp.fit(X_train, y_train,\n",
    "                                      epochs=25,\n",
    "                                      verbose=1,\n",
    "                                      validation_data=(X_test, y_test),\n",
    "                                      batch_size=10,\n",
    "                                      shuffle=False,\n",
    "                                      callbacks = [early_stop])"
   ]
  },
  {
   "cell_type": "markdown",
   "metadata": {},
   "source": [
    "Hacemos el gráfico para ver el rendimiento"
   ]
  },
  {
   "cell_type": "code",
   "execution_count": 167,
   "metadata": {},
   "outputs": [
    {
     "data": {
      "image/png": "[encoded data removed]",
      "text/plain": [
       "<Figure size 864x360 with 2 Axes>"
      ]
     },
     "metadata": {},
     "output_type": "display_data"
    }
   ],
   "source": [
    "plot_history(historial_modelo_gmp) "
   ]
  },
  {
   "cell_type": "markdown",
   "metadata": {},
   "source": [
    "Esta vez la red presenta un accuracy mucho más estable, aunque la pérdida tampoco tardaen dispararse, igual que en el caso con Flatten. Las redes neuronales tienen el inconveniente de sobreajustarse rápidamente."
   ]
  },
  {
   "cell_type": "markdown",
   "metadata": {},
   "source": [
    "## Red con LSTM\n",
    "\n",
    "Finlamente, construimos una red con LSTM como segunda capa.\n",
    "LSTM (Long Short Term Memory) es un tipo específico de red neuronal recursiva que posee la capacidad de tener \"memoria\". Se emplean para evitar problemas de dependencia a largo plazo, y para que la red no tenga que comenzar el proceso en cada época como si no supiese nada del problema, como si \"no tuviese memoria\""
   ]
  },
  {
   "cell_type": "code",
   "execution_count": 42,
   "metadata": {},
   "outputs": [
    {
     "name": "stdout",
     "output_type": "stream",
     "text": [
      "Model: \"sequential_8\"\n",
      "_________________________________________________________________\n",
      "Layer (type)                 Output Shape              Param #   \n",
      "=================================================================\n",
      "embedding_8 (Embedding)      (None, 250, 25)           3775050   \n",
      "_________________________________________________________________\n",
      "lstm_1 (LSTM)                (None, 32)                7424      \n",
      "_________________________________________________________________\n",
      "dense_15 (Dense)             (None, 10)                330       \n",
      "_________________________________________________________________\n",
      "dense_16 (Dense)             (None, 1)                 11        \n",
      "=================================================================\n",
      "Total params: 3,782,815\n",
      "Trainable params: 3,782,815\n",
      "Non-trainable params: 0\n",
      "_________________________________________________________________\n"
     ]
    }
   ],
   "source": [
    "embedding_dim = 25 # misma dimension que siempre\n",
    "\n",
    "modelo_lstm = Sequential() # inicio\n",
    "\n",
    "# Capa del embedding\n",
    "modelo_lstm.add(layers.Embedding(input_dim=vocab_size, \n",
    "                           output_dim=embedding_dim, \n",
    "                           input_length=maxlen))\n",
    "\n",
    "modelo_lstm.add(LSTM(32)) # utilizando Long Short-Term Memory con 32 neuronas\n",
    "\n",
    "# Resto de capas, las de siempre\n",
    "modelo_lstm.add(layers.Dense(10, activation='relu'))\n",
    "modelo_lstm.add(layers.Dense(1, activation='sigmoid'))\n",
    "\n",
    "# Compilacion del modelo\n",
    "modelo_lstm.compile(optimizer='adam',\n",
    "                    loss='binary_crossentropy',\n",
    "                    metrics=['accuracy',  # mismas métricas\n",
    "                             auc, \n",
    "                             verdaderos_negativos, \n",
    "                             falsos_negativos,\n",
    "                             verdaderos_positivos,\n",
    "                             falsos_positivos])\n",
    "# Resumen de la red\n",
    "modelo_lstm.summary()"
   ]
  },
  {
   "cell_type": "code",
   "execution_count": 43,
   "metadata": {},
   "outputs": [
    {
     "name": "stdout",
     "output_type": "stream",
     "text": [
      "Train on 30000 samples, validate on 10000 samples\n",
      "Epoch 1/25\n",
      "30000/30000 [==============================] - 443s 15ms/step - loss: 0.6862 - accuracy: 0.5243 - auc_6: 0.9622 - true_negatives_3: 172148.7656 - false_negatives_1: 23223.2246 - true_positives_1: 165825.1875 - false_positives_4: 18087.3770 - val_loss: 0.6250 - val_accuracy: 0.6640 - val_auc_6: 0.9551 - val_true_negatives_3: 179739.7188 - val_false_negatives_1: 29376.5293 - val_true_positives_1: 169630.0938 - val_false_positives_4: 20538.4395\n",
      "Epoch 2/25\n",
      "30000/30000 [==============================] - 435s 14ms/step - loss: 0.6039 - accuracy: 0.6893 - auc_6: 0.9490 - true_negatives_3: 187873.7969 - false_negatives_1: 34117.2305 - true_positives_1: 174872.3281 - false_positives_4: 22421.3965 - val_loss: 0.5563 - val_accuracy: 0.7584 - val_auc_6: 0.9441 - val_true_negatives_3: 196074.1094 - val_false_negatives_1: 37868.3594 - val_true_positives_1: 181079.3438 - val_false_positives_4: 24263.0449\n",
      "Epoch 3/25\n",
      "30000/30000 [==============================] - 432s 14ms/step - loss: 0.5496 - accuracy: 0.7206 - auc_6: 0.9394 - true_negatives_3: 205024.5781 - false_negatives_1: 42508.4336 - true_positives_1: 186422.1250 - false_positives_4: 25329.5996 - val_loss: 0.5780 - val_accuracy: 0.7306 - val_auc_6: 0.9352 - val_true_negatives_3: 214189.3438 - val_false_negatives_1: 46844.1523 - val_true_positives_1: 192044.4531 - val_false_positives_4: 26206.7402\n",
      "Epoch 4/25\n",
      "30000/30000 [==============================] - 429s 14ms/step - loss: 0.5234 - accuracy: 0.7513 - auc_6: 0.9313 - true_negatives_3: 222985.7344 - false_negatives_1: 50726.6133 - true_positives_1: 198144.7188 - false_positives_4: 27427.3711 - val_loss: 0.5908 - val_accuracy: 0.7022 - val_auc_6: 0.9276 - val_true_negatives_3: 231718.0000 - val_false_negatives_1: 54616.2656 - val_true_positives_1: 204213.2344 - val_false_positives_4: 28737.1074\n",
      "Epoch 5/25\n",
      "30000/30000 [==============================] - 434s 14ms/step - loss: 0.4710 - accuracy: 0.7850 - auc_6: 0.9243 - true_negatives_3: 240853.8594 - false_negatives_1: 58711.3438 - true_positives_1: 210101.3281 - false_positives_4: 29618.3457 - val_loss: 0.4522 - val_accuracy: 0.8218 - val_auc_6: 0.9228 - val_true_negatives_3: 249396.6094 - val_false_negatives_1: 61085.1953 - val_true_positives_1: 217685.4531 - val_false_positives_4: 31117.6074\n",
      "Epoch 6/25\n",
      "30000/30000 [==============================] - 502s 17ms/step - loss: 0.3086 - accuracy: 0.8740 - auc_6: 0.9228 - true_negatives_3: 257904.6875 - false_negatives_1: 62554.7422 - true_positives_1: 226198.7656 - false_positives_4: 32626.4961 - val_loss: 0.3362 - val_accuracy: 0.8708 - val_auc_6: 0.9238 - val_true_negatives_3: 266587.9688 - val_false_negatives_1: 63535.7773 - val_true_positives_1: 235175.8125 - val_false_positives_4: 33985.2812\n",
      "Epoch 7/25\n",
      "30000/30000 [==============================] - 978s 33ms/step - loss: 0.1859 - accuracy: 0.9317 - auc_6: 0.9256 - true_negatives_3: 275561.5938 - false_negatives_1: 64302.6133 - true_positives_1: 244391.8438 - false_positives_4: 35028.7812 - val_loss: 0.3966 - val_accuracy: 0.8750 - val_auc_6: 0.9275 - val_true_negatives_3: 284768.8750 - val_false_negatives_1: 64972.8438 - val_true_positives_1: 253679.7188 - val_false_positives_4: 35863.3086\n",
      "Epoch 8/25\n",
      "30000/30000 [==============================] - 933s 31ms/step - loss: 0.1067 - accuracy: 0.9657 - auc_6: 0.9297 - true_negatives_3: 294122.4062 - false_negatives_1: 65527.8516 - true_positives_1: 263107.7188 - false_positives_4: 36527.0195 - val_loss: 0.4627 - val_accuracy: 0.8706 - val_auc_6: 0.9319 - val_true_negatives_3: 303491.3750 - val_false_negatives_1: 65936.9531 - val_true_positives_1: 272656.6250 - val_false_positives_4: 37199.8086\n",
      "Epoch 9/25\n",
      "30000/30000 [==============================] - 924s 31ms/step - loss: 0.0656 - accuracy: 0.9816 - auc_6: 0.9340 - true_negatives_3: 312917.5312 - false_negatives_1: 66310.1875 - true_positives_1: 282266.1562 - false_positives_4: 37790.5977 - val_loss: 0.4818 - val_accuracy: 0.8695 - val_auc_6: 0.9361 - val_true_negatives_3: 322504.5938 - val_false_negatives_1: 66743.5547 - val_true_positives_1: 291790.9688 - val_false_positives_4: 38245.6250\n",
      "Epoch 00009: early stopping\n"
     ]
    }
   ],
   "source": [
    "np.random.seed(1234)\n",
    "\n",
    "# Entrenamiento de la red\n",
    "historial_modelo_lstm = modelo_lstm.fit(X_train, y_train,\n",
    "                                        epochs=25,\n",
    "                                        verbose=1,\n",
    "                                        validation_data=(X_test, y_test),\n",
    "                                        batch_size=10,\n",
    "                                        shuffle=False,\n",
    "                                        callbacks = [early_stop])"
   ]
  },
  {
   "cell_type": "code",
   "execution_count": 168,
   "metadata": {
    "scrolled": true
   },
   "outputs": [
    {
     "data": {
      "image/png": "[encoded data removed]",
      "text/plain": [
       "<Figure size 864x360 with 2 Axes>"
      ]
     },
     "metadata": {},
     "output_type": "display_data"
    }
   ],
   "source": [
    "plot_history(historial_modelo_lstm) "
   ]
  },
  {
   "cell_type": "markdown",
   "metadata": {},
   "source": [
    "Sin duda, esta red neuronal es la que mejor ha funcionado de todas. Pese a haber estado entreando durante más épocas, los gráficos muestran unos datos relativamente buenos. No hay fuertes subidas de la péridda hasta la sexta épioca, ni caidas abruptas en el accuracy, que va aumentando poco a poco hasta quedarse en torno al 85%, momento en que la péridad emnpieza a subir, y se corta la ejecución"
   ]
  },
  {
   "cell_type": "markdown",
   "metadata": {},
   "source": [
    "Guardamos las tres redes neuronales y sus pesos antes de continuar, con las funciones que hemos definido,"
   ]
  },
  {
   "cell_type": "code",
   "execution_count": 45,
   "metadata": {
    "scrolled": true
   },
   "outputs": [
    {
     "name": "stdout",
     "output_type": "stream",
     "text": [
      "Red neuronal guardada en ../models/trained_models/neural_networks/modelo_flatten.json\n",
      "Pesos guardados en ../models/trained_models/neural_networks/pesos_modelo_flatten.h5\n",
      "Red neuronal guardada en ../models/trained_models/neural_networks/modelo_gmp.json\n",
      "Pesos guardados en ../models/trained_models/neural_networks/pesos_modelo_gmp.h5\n",
      "Red neuronal guardada en ../models/trained_models/neural_networks/modelo_lstm.json\n",
      "Pesos guardados en ../models/trained_models/neural_networks/pesos_modelo_lstm.h5\n"
     ]
    }
   ],
   "source": [
    "guardar_red_neuronal(modelo_flatten, 'modelo_flatten')\n",
    "guardar_red_neuronal(modelo_gmp, 'modelo_gmp')\n",
    "guardar_red_neuronal(modelo_lstm, 'modelo_lstm')"
   ]
  },
  {
   "cell_type": "markdown",
   "metadata": {},
   "source": [
    "## Evaluación de las redes y selección del modelo ganador"
   ]
  },
  {
   "cell_type": "markdown",
   "metadata": {},
   "source": [
    "Utilizando la última época, comparamos las tres redes entre sí, y las comparamos con la regresión logística. Definimos una función que devuelva la tasa de falsos positivos, y el coste unitario del modelo. Utilizamos el coste unitario porque no tenemos claro cuantas veces hace el testeo la red neuronal, pese a que el tramo de test mide exactamente 10.000 observaciones, pero las sumas de los falsos postivios, negativos, etc proporcionan resultados inconsistentes con estas 10.000 observaciones. Comparandolo en términos unitarios, evitamos ese problema. Los costes de cada clasificación son los mismos que se usan con el resto de modelos a lo largo del trabajo."
   ]
  },
  {
   "cell_type": "code",
   "execution_count": 135,
   "metadata": {},
   "outputs": [],
   "source": [
    "def evaluacion_red_neuronal(red_neuronal, \n",
    "                            coste_verdaderos_negativos=100,\n",
    "                            coste_verdaderos_positivos=50,\n",
    "                            coste_falsos_positivos=300,\n",
    "                            coste_falsos_negativos=80,\n",
    "                            epoca=-1):\n",
    "    '''\n",
    "    La función calcula el coste para la última época por defecto\n",
    "    '''\n",
    "    \n",
    "    # Usando el historial de la red, se extraen las distintas métricas, para la epoca seleccionada\n",
    "    verdaderos_negativos = red_neuronal.history['val_true_negatives_3'][epoca]\n",
    "    falsos_positivos = red_neuronal.history['val_false_positives_4'][epoca]\n",
    "    \n",
    "    verdaderos_positivos = red_neuronal.history['val_true_positives_1'][epoca]\n",
    "    falsos_negativos = red_neuronal.history['val_false_negatives_1'][epoca]\n",
    "    \n",
    "    # Se calculan las tasas\n",
    "    tasa_falsos_positivos = falsos_positivos / np.sum([falsos_positivos, verdaderos_negativos]) \n",
    "    tasa_verdaderos_negativos = 1 - tasa_falsos_positivos\n",
    "    \n",
    "    tasa_verdaderos_positivos = verdaderos_positivos / np.sum([verdaderos_positivos + falsos_negativos])\n",
    "    tasa_falsos_negativos = 1 - tasa_verdaderos_positivos\n",
    "    \n",
    "    # Se calcula el coste \n",
    "    coste = np.sum([(-1)*coste_verdaderos_negativos*verdaderos_negativos, # son perdidas que se evitan \n",
    "                    coste_falsos_negativos*falsos_negativos,\n",
    "                    (-1)*coste_verdaderos_positivos*verdaderos_positivos, # son pérdidas que se evitan\n",
    "                    coste_falsos_positivos*falsos_positivos])\n",
    "    \n",
    "    # y el coste unitario\n",
    "    coste_unitario = coste / np.sum([verdaderos_positivos, verdaderos_negativos, falsos_positivos, falsos_negativos])\n",
    "    \n",
    "    # tambien se extrae el accuracy\n",
    "    accuracy = red_neuronal.history['val_accuracy'][epoca]\n",
    "    \n",
    "    # La función devuelve tres outputs, el porcentaje de falsos positivos, el coste unitario y el accuracy\n",
    "    return round(tasa_falsos_positivos*100, 3), round(coste_unitario, 3), round(accuracy, 3)"
   ]
  },
  {
   "cell_type": "markdown",
   "metadata": {},
   "source": [
    "Definimos un diccionario con los modelos y sus historiales, y aplicamos la función"
   ]
  },
  {
   "cell_type": "code",
   "execution_count": null,
   "metadata": {},
   "outputs": [],
   "source": [
    "historiales = {\n",
    "    'modelo_fatten': historial_modelo_flatten, \n",
    "    'modelo_gmp': historial_modelo_gmp, \n",
    "    'modelo_lstm': historial_modelo_lstm}"
   ]
  },
  {
   "cell_type": "code",
   "execution_count": 146,
   "metadata": {
    "scrolled": false
   },
   "outputs": [
    {
     "name": "stdout",
     "output_type": "stream",
     "text": [
      "modelo_fatten\n",
      "Accuracy: 0.859\n",
      "Tasa de falsos positvivos: 6.506 %\n",
      "Ganancia unitaria del modelo 56.276 €\n",
      "---------------------------------------\n",
      "modelo_gmp\n",
      "Accuracy: 0.86\n",
      "Tasa de falsos positvivos: 8.439 %\n",
      "Ganancia unitaria del modelo 51.616 €\n",
      "---------------------------------------\n",
      "modelo_lstm\n",
      "Accuracy: 0.869\n",
      "Tasa de falsos positvivos: 10.602 %\n",
      "Ganancia unitaria del modelo 41.745 €\n",
      "---------------------------------------\n"
     ]
    }
   ],
   "source": [
    "for modelo in historiales:\n",
    "    \n",
    "    # La función previamente definida devuelve tres ouptuts. La utilizamos sobre cada uno de los \n",
    "    # historiales del diccionario, a los cuales se accede con la \"key\", que es el nombre de cada\n",
    "    # modelo\n",
    "    tasa_falsos_positivos, coste_unitario, accuracy = evaluacion_red_neuronal(historiales[modelo])\n",
    "    \n",
    "    print(modelo)\n",
    "    print('Accuracy:', accuracy)\n",
    "    print('Tasa de falsos positvivos:', tasa_falsos_positivos, '%')\n",
    "    if (coste < 1):\n",
    "        print('Ganancia unitaria del modelo', (-1)*coste_unitario, '€') # si el coste es negativo, son ganancias, \n",
    "                                                                        # se cambia de signo\n",
    "                                                        \n",
    "    else:\n",
    "        print('Pérdida unitaria del modelo', coste_unitario, '€') \n",
    "    print('---------------------------------------')"
   ]
  },
  {
   "cell_type": "markdown",
   "metadata": {},
   "source": [
    "Cargamos la logit y calculamos sus métricas para compararla con las redes"
   ]
  },
  {
   "cell_type": "code",
   "execution_count": 3,
   "metadata": {},
   "outputs": [],
   "source": [
    "logit = cargar_modelo('../models/trained_models/classifiers/LogisticRegression().sav')"
   ]
  },
  {
   "cell_type": "code",
   "execution_count": 9,
   "metadata": {},
   "outputs": [
    {
     "name": "stdout",
     "output_type": "stream",
     "text": [
      "Regresión logística\n",
      "Accuracy: 0.89\n",
      "Tasa de falsos positivos: 12.3 %\n",
      "Ganancia unitaria del modelo 44.186 €\n"
     ]
    }
   ],
   "source": [
    "# Calculamos métricas de la logit para compararla\n",
    "accuracy_logit = logit.score(X_test, y_test)\n",
    "y_pred = logit.predict(X_test)\n",
    "m_confusion = confusion_matrix(y_test, y_pred)\n",
    "tasa_falsos_positivos = m_confusion[0][1] / np.sum([m_confusion[0][1], m_confusion[0][0]]) \n",
    "print('Regresión logística')\n",
    "print('Accuracy:', round(accuracy_logit, 3))\n",
    "print('Tasa de falsos positivos:', round(tasa_falsos_positivos, 3)*100, '%')\n",
    "print('Ganancia unitaria del modelo', (-1)*coste_modelo(logit)/10000, '€') "
   ]
  },
  {
   "cell_type": "markdown",
   "metadata": {},
   "source": [
    "La regresión logística tenía un valor total de 441.860 €, que dividido entre las 10.000 observaciones de su test, supone un valor unitario de 44.18 €, un accuracy de 0.89, y una tasa de falsos positivos de aproximadamente el 12%. En este contexto, las dos primeras redes neuronales ofrecen resultados aparentemente más atractivos que la regresión logística. La última de ellas no logra batir el valor económico que genra la logit, aún siendo la red que mejor se ha comportado en términos de accuracy a lo largo de las épocas. Pese a todo esto, __el modelo que finalmente se selecciona es la regresión logística__, por los motivos que se exponen a continuación. \n",
    "\n",
    "- __Simpleza__: la regresión logística es un modelo mucho más simple de programar, entrenar, optimizar e interpretar, mientras que las redes neuronales son mucho más opacas, y no es posible comprender a fondo lo que está sucediendo dentro de ellas, ni la influencia de cada combinación de los parámetros. Tampoco es fácil entender cada uno de sus componentes bien, y la falta de experiencia con ellas hace que en ocasiones no se sepa exactamente lo que se está haciendo \n",
    "  \n",
    "  \n",
    "- __Coste computacional__: el coste que se ha usado para valorar los modelos no ha tenido en cuenta el tiempo de cómputo, ni la capacidad computacional para mantener cada uno de los modelos. En este aspecto, la regresión logística es el modelo más rápido y barato computacionalmente, con diferencia. Las redes neuronales han presentado tiempos de computo prolongados, algo que dificultaría la optimización de sus hiperparámetros.  \n",
    "  \n",
    "  \n",
    "- __Escalabilidad__: en relación con el coste computacional, la regresión logística es escalable de una manera mucho más sencilla. Si la empresa quisiese tener varios modelos logit, por ejemplo uno para cada clúster de clientes, y lanzarlos contra datos masivos, sería mucho más sencillo con la regresión logística. En el caso de uso de este trabajo, se está trabajando con cantidades de 50.000 datos, 30.000 para entrenar. Con estos volúmenes, las redes construidas, pese a no ser demasiado profundas, ya han generado problemas de cómputo. Su puesta en producción con volúmenes mucho más elevados puede disparar los costes de la empresa.  \n",
    "  \n",
    "  \n",
    "- __Overfitting__: si bien es cierto que todas las redes neuronales ofrecen buenos resultados, todas ellas presentan cierto sobreajuste, pasando de accuracys de prácticamente el 100% en entrenamiento a 85% en test. Las redes neuronales tienen el peligro de sobreajustarse con facilidad, algo que reduce su fiabilidad. La regresión logística no ha dado estos problemas.\n",
    "  \n",
    "  \n",
    "- __Costes legales y administrativos__: el reciente endurecimiento del marco regulatorio de los modelos de Machine Learning desalienta el uso de modelos opacos y complejos, puesto que pueden generar problemas a la organización a la hora de no ser capaz de explicar correctamente el modelo a los reguladores. Las multas, calculadas sobre el porcentaje de beneficio de las empresas, salen caras, y un desliz en los modelos puede suponer la quiebra de la compañía. De nuevo, en este aspecto gana la regresión logística, puesto que las probabilidades de infringir la regulación son menores\n",
    "  \n",
    "Somos conscientes de que las redes neuronales son poderoas, y tienen potencial, no decimos lo contrario. Pero para este caso de uso, no consideramos que el empleo de redes neuronales merezca la pena, puesto que la ganancia que proporcional no compensa los costes de puesta en funcionamiento y mantenimiento que acarrean. "
   ]
  },
  {
   "cell_type": "markdown",
   "metadata": {},
   "source": [
    "En síntesis, el modelo que se selecciona como modelo ganador es la regresión logística, y en el siguiente notebook se optimizan sus hiperparámetros."
   ]
  }
 ],
 "metadata": {
  "kernelspec": {
   "display_name": "Python 3",
   "language": "python",
   "name": "python3"
  },
  "language_info": {
   "codemirror_mode": {
    "name": "ipython",
    "version": 3
   },
   "file_extension": ".py",
   "mimetype": "text/x-python",
   "name": "python",
   "nbconvert_exporter": "python",
   "pygments_lexer": "ipython3",
   "version": "3.7.9"
  }
 },
 "nbformat": 4,
 "nbformat_minor": 4
}
